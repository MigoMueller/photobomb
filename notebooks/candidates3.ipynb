{
 "cells": [
  {
   "cell_type": "markdown",
   "id": "69f1b7f7",
   "metadata": {},
   "source": [
    "Asteroid identification 3/3"
   ]
  },
  {
   "cell_type": "markdown",
   "id": "717cec0f",
   "metadata": {},
   "source": [
    "Part of the photobomb package to measure asteroid diameters from serendipitous detections with JWST MIRI. </br>\n",
    "This notebook: verify which candidates actually intersect a datafile using the WCS, calculate motion rates in x/y pixels/frame. <br />\n",
    "M.Mueller@astro.rug.nl, 2022/10/06+"
   ]
  },
  {
   "cell_type": "code",
   "execution_count": 1,
   "id": "6d26477f",
   "metadata": {},
   "outputs": [],
   "source": [
    "import os\n",
    "import json\n",
    "import numpy as np\n",
    "from astroquery.jplhorizons import Horizons\n",
    "from glob import glob\n",
    "from jwst.assign_wcs import AssignWcsStep\n",
    "#from jwst.pipeline import calwebb_detector1\n",
    "from jwst import datamodels"
   ]
  },
  {
   "cell_type": "code",
   "execution_count": null,
   "id": "0810caae",
   "metadata": {},
   "outputs": [],
   "source": []
  },
  {
   "cell_type": "code",
   "execution_count": 3,
   "id": "7ff9cf0c",
   "metadata": {},
   "outputs": [],
   "source": [
    "pid=1051\n",
    "obs=19\n",
    "### make that a parameter to a function once stuff works"
   ]
  },
  {
   "cell_type": "code",
   "execution_count": null,
   "id": "986026c4",
   "metadata": {},
   "outputs": [],
   "source": []
  },
  {
   "cell_type": "code",
   "execution_count": 4,
   "id": "4f78fb39",
   "metadata": {},
   "outputs": [],
   "source": [
    "basedirData = os.path.join( os.environ['HOME'], 'MIRI', 'data', 'photobomb')\n",
    "basedirResults = os.path.join( os.environ['HOME'], 'ownCloud', 'miri', 'photobomb' )\n",
    "for d in [basedirData, basedirResults ]:\n",
    "    if not os.path.isdir( d ):\n",
    "        os.makedirs( d )"
   ]
  },
  {
   "cell_type": "code",
   "execution_count": 5,
   "id": "8c0a34b1",
   "metadata": {},
   "outputs": [],
   "source": [
    "dataDir = os.path.join( basedirData, '%s'%pid, '%s'%obs )\n",
    "resultsDir = os.path.join( basedirResults, '%s'%pid, '%s'%obs )\n",
    "for d in [dataDir, resultsDir ]:\n",
    "    if not os.path.isdir( d ):\n",
    "        os.makedirs( d )"
   ]
  },
  {
   "cell_type": "code",
   "execution_count": 6,
   "id": "cc466f45",
   "metadata": {},
   "outputs": [],
   "source": [
    "telescope='@JWST'\n",
    "elongLimits = [85,135]"
   ]
  },
  {
   "cell_type": "code",
   "execution_count": null,
   "id": "dcf7b84c",
   "metadata": {},
   "outputs": [],
   "source": []
  },
  {
   "cell_type": "code",
   "execution_count": 7,
   "id": "46cf952a",
   "metadata": {},
   "outputs": [],
   "source": [
    "candidatesFile = os.path.join( resultsDir, 'candidates2.json' )\n",
    "#if  os.path.isfile( candidatesFile ):\n",
    "if not os.path.isfile( candidatesFile ):\n",
    "    print( candidatesFile, \"doesn't exist, run earlier notebooks first\")\n",
    "    assert False\n",
    "else:\n",
    "    with open( candidatesFile ) as f:\n",
    "        parms = json.load( f )"
   ]
  },
  {
   "cell_type": "code",
   "execution_count": null,
   "id": "12693555",
   "metadata": {},
   "outputs": [],
   "source": []
  },
  {
   "cell_type": "code",
   "execution_count": 8,
   "id": "72d69e9f",
   "metadata": {},
   "outputs": [],
   "source": [
    "### Bootstrap: file doesn't exist, yet. Set up dict manually (to be deleted once notebooks 1 and 2 exist)\n",
    "#parms={}\n",
    "#parms['pid']=pid\n",
    "#parms['obs']=obs\n",
    "#parms['DATE-BEG']= '2022-05-31T15:16:24.193'\n",
    "#parms['DATE-END']= '2022-05-31T15:16:46.393'\n",
    "#parms['TARG_RA'] = 182.34533\n",
    "#parms['TARG_DEC']=3.989880555555556 \n",
    "\n",
    "#candidates = {}\n",
    "#candidates['2018 HP10']='2022-10-01T00:00:00.000'\n",
    "#parms['candidates']=candidates\n",
    "\n",
    "#assert not os.path.isfile( candidatesFile ) # don't overwrite\n",
    "#with open( candidatesFile, 'w' ) as f:\n",
    "#    f.write(json.dumps(parms, indent=4))"
   ]
  },
  {
   "cell_type": "code",
   "execution_count": null,
   "id": "9bcc0efb",
   "metadata": {},
   "outputs": [],
   "source": []
  },
  {
   "cell_type": "code",
   "execution_count": 9,
   "id": "75c49764",
   "metadata": {},
   "outputs": [
    {
     "data": {
      "text/plain": [
       "{'pid': 1051,\n",
       " 'obs': 19,\n",
       " 'DATE-BEG': '2022-05-31T15:16:24.193',\n",
       " 'DATE-END': '2022-05-31T15:16:46.393',\n",
       " 'TARG_RA': 182.34533,\n",
       " 'TARG_DEC': 3.989880555555556,\n",
       " 'candidates': {'2018 HP10': '2022-10-01T00:00:00.000'}}"
      ]
     },
     "execution_count": 9,
     "metadata": {},
     "output_type": "execute_result"
    }
   ],
   "source": [
    "parms"
   ]
  },
  {
   "cell_type": "code",
   "execution_count": null,
   "id": "fd73a967",
   "metadata": {},
   "outputs": [],
   "source": []
  },
  {
   "cell_type": "code",
   "execution_count": 10,
   "id": "bc7365b1",
   "metadata": {},
   "outputs": [],
   "source": [
    "#from datetime import datetime\n",
    "\n",
    "#timeFormat='%Y-%m-%dT%H:%M:%S.%f'\n",
    "#t0=datetime.strptime( parms['DATE-BEG'], timeFormat )\n",
    "#t1=datetime.strptime( parms['DATE-END'], timeFormat )\n",
    "\n",
    "#dT = (t1-t0)/(nTimes-0)\n",
    "#times=np.arange( t0, t1, dT )\n",
    "#times=np.append(times,t1) # add end time"
   ]
  },
  {
   "cell_type": "code",
   "execution_count": null,
   "id": "886493ec",
   "metadata": {},
   "outputs": [],
   "source": []
  },
  {
   "cell_type": "code",
   "execution_count": 11,
   "id": "05b75136",
   "metadata": {},
   "outputs": [],
   "source": [
    "if len(parms['candidates']) == 0:\n",
    "    #return # only makes sense within a function\n",
    "    pass"
   ]
  },
  {
   "cell_type": "code",
   "execution_count": 22,
   "id": "3e9cf6c7",
   "metadata": {},
   "outputs": [],
   "source": [
    "rateFiles=glob(os.path.join(dataDir, '*_rate.fits'))"
   ]
  },
  {
   "cell_type": "code",
   "execution_count": null,
   "id": "a48c552e",
   "metadata": {},
   "outputs": [],
   "source": []
  },
  {
   "cell_type": "code",
   "execution_count": null,
   "id": "8887d93e",
   "metadata": {},
   "outputs": [],
   "source": []
  },
  {
   "cell_type": "code",
   "execution_count": 63,
   "id": "0a35802b",
   "metadata": {},
   "outputs": [
    {
     "name": "stderr",
     "output_type": "stream",
     "text": [
      "2022-10-24 16:01:33,690 - stpipe.AssignWcsStep - INFO - AssignWcsStep instance created.\n",
      "2022-10-24 16:01:33,703 - stpipe.AssignWcsStep - INFO - AssignWcsStep instance created.\n"
     ]
    },
    {
     "name": "stdout",
     "output_type": "stream",
     "text": [
      "/Users/michaelm/MIRI/data/photobomb/1051/19/jw01051019001_02105_00001_mirimage_rate.fits\n"
     ]
    },
    {
     "name": "stderr",
     "output_type": "stream",
     "text": [
      "2022-10-24 16:01:34,041 - stpipe.AssignWcsStep - INFO - Step AssignWcsStep running with args (<ImageModel(1024, 1032) from jw01051019001_02105_00001_mirimage_rate.fits>,).\n",
      "2022-10-24 16:01:34,046 - stpipe.AssignWcsStep - INFO - Step AssignWcsStep parameters are: {'pre_hooks': [], 'post_hooks': [], 'output_file': None, 'output_dir': None, 'output_ext': '.fits', 'output_use_model': False, 'output_use_index': True, 'save_results': False, 'skip': False, 'suffix': None, 'search_output_file': True, 'input_dir': '', 'sip_approx': True, 'sip_max_pix_error': 0.1, 'sip_degree': None, 'sip_max_inv_pix_error': 0.1, 'sip_inv_degree': None, 'sip_npoints': 12, 'slit_y_low': -0.55, 'slit_y_high': 0.55}\n",
      "2022-10-24 16:01:34,379 - stpipe.AssignWcsStep - INFO - Created a MIRI mir_image pipeline with references {'distortion': '/Users/michaelm/.miricle/crds/references/jwst/miri/jwst_miri_distortion_0047.asdf', 'filteroffset': '/Users/michaelm/.miricle/crds/references/jwst/miri/jwst_miri_filteroffset_0006.asdf', 'specwcs': None, 'regions': None, 'wavelengthrange': None, 'camera': None, 'collimator': None, 'disperser': None, 'fore': None, 'fpa': None, 'msa': None, 'ote': None, 'ifupost': None, 'ifufore': None, 'ifuslicer': None}\n",
      "2022-10-24 16:01:34,489 - stpipe.AssignWcsStep - INFO - Update S_REGION to POLYGON ICRS  182.322428587 3.981954556 182.350332381 3.967693078 182.364728851 3.995630905 182.336911635 4.010173942\n",
      "2022-10-24 16:01:34,490 - stpipe.AssignWcsStep - INFO - assign_wcs updated S_REGION to POLYGON ICRS  182.322428587 3.981954556 182.350332381 3.967693078 182.364728851 3.995630905 182.336911635 4.010173942\n",
      "2022-10-24 16:01:34,491 - stpipe.AssignWcsStep - INFO - COMPLETED assign_wcs\n",
      "2022-10-24 16:01:34,598 - stpipe.AssignWcsStep - INFO - Results used CRDS context: jwst_1007.pmap\n",
      "2022-10-24 16:01:34,599 - stpipe.AssignWcsStep - INFO - Step AssignWcsStep done\n",
      "2022-10-24 16:01:34,777 - stpipe.AssignWcsStep - INFO - AssignWcsStep instance created.\n",
      "2022-10-24 16:01:34,800 - stpipe.AssignWcsStep - INFO - AssignWcsStep instance created.\n"
     ]
    },
    {
     "name": "stdout",
     "output_type": "stream",
     "text": [
      "/Users/michaelm/MIRI/data/photobomb/1051/19/jw01051019001_02105_00001_mirimage_rate.fits False\n",
      "/Users/michaelm/MIRI/data/photobomb/1051/19/jw01051019001_0210a_00001_mirimage_rate.fits\n"
     ]
    },
    {
     "name": "stderr",
     "output_type": "stream",
     "text": [
      "2022-10-24 16:01:35,146 - stpipe.AssignWcsStep - INFO - Step AssignWcsStep running with args (<ImageModel(1024, 1032) from jw01051019001_0210a_00001_mirimage_rate.fits>,).\n",
      "2022-10-24 16:01:35,150 - stpipe.AssignWcsStep - INFO - Step AssignWcsStep parameters are: {'pre_hooks': [], 'post_hooks': [], 'output_file': None, 'output_dir': None, 'output_ext': '.fits', 'output_use_model': False, 'output_use_index': True, 'save_results': False, 'skip': False, 'suffix': None, 'search_output_file': True, 'input_dir': '', 'sip_approx': True, 'sip_max_pix_error': 0.1, 'sip_degree': None, 'sip_max_inv_pix_error': 0.1, 'sip_inv_degree': None, 'sip_npoints': 12, 'slit_y_low': -0.55, 'slit_y_high': 0.55}\n",
      "2022-10-24 16:01:35,498 - stpipe.AssignWcsStep - INFO - Created a MIRI mir_image pipeline with references {'distortion': '/Users/michaelm/.miricle/crds/references/jwst/miri/jwst_miri_distortion_0047.asdf', 'filteroffset': '/Users/michaelm/.miricle/crds/references/jwst/miri/jwst_miri_filteroffset_0006.asdf', 'specwcs': None, 'regions': None, 'wavelengthrange': None, 'camera': None, 'collimator': None, 'disperser': None, 'fore': None, 'fpa': None, 'msa': None, 'ote': None, 'ifupost': None, 'ifufore': None, 'ifuslicer': None}\n",
      "2022-10-24 16:01:35,607 - stpipe.AssignWcsStep - INFO - Update S_REGION to POLYGON ICRS  182.322437827 3.981954120 182.350341931 3.967692600 182.364738287 3.995630372 182.336920972 4.010173571\n",
      "2022-10-24 16:01:35,608 - stpipe.AssignWcsStep - INFO - assign_wcs updated S_REGION to POLYGON ICRS  182.322437827 3.981954120 182.350341931 3.967692600 182.364738287 3.995630372 182.336920972 4.010173571\n",
      "2022-10-24 16:01:35,609 - stpipe.AssignWcsStep - INFO - COMPLETED assign_wcs\n",
      "2022-10-24 16:01:35,731 - stpipe.AssignWcsStep - INFO - Results used CRDS context: jwst_1007.pmap\n",
      "2022-10-24 16:01:35,732 - stpipe.AssignWcsStep - INFO - Step AssignWcsStep done\n",
      "2022-10-24 16:01:35,935 - stpipe.AssignWcsStep - INFO - AssignWcsStep instance created.\n",
      "2022-10-24 16:01:35,948 - stpipe.AssignWcsStep - INFO - AssignWcsStep instance created.\n"
     ]
    },
    {
     "name": "stdout",
     "output_type": "stream",
     "text": [
      "/Users/michaelm/MIRI/data/photobomb/1051/19/jw01051019001_0210a_00001_mirimage_rate.fits False\n",
      "/Users/michaelm/MIRI/data/photobomb/1051/19/jw01051019001_02103_00003_mirimage_rate.fits\n"
     ]
    },
    {
     "name": "stderr",
     "output_type": "stream",
     "text": [
      "2022-10-24 16:01:36,295 - stpipe.AssignWcsStep - INFO - Step AssignWcsStep running with args (<ImageModel(1024, 1032) from jw01051019001_02103_00003_mirimage_rate.fits>,).\n",
      "2022-10-24 16:01:36,299 - stpipe.AssignWcsStep - INFO - Step AssignWcsStep parameters are: {'pre_hooks': [], 'post_hooks': [], 'output_file': None, 'output_dir': None, 'output_ext': '.fits', 'output_use_model': False, 'output_use_index': True, 'save_results': False, 'skip': False, 'suffix': None, 'search_output_file': True, 'input_dir': '', 'sip_approx': True, 'sip_max_pix_error': 0.1, 'sip_degree': None, 'sip_max_inv_pix_error': 0.1, 'sip_inv_degree': None, 'sip_npoints': 12, 'slit_y_low': -0.55, 'slit_y_high': 0.55}\n",
      "2022-10-24 16:01:36,626 - stpipe.AssignWcsStep - INFO - Created a MIRI mir_image pipeline with references {'distortion': '/Users/michaelm/.miricle/crds/references/jwst/miri/jwst_miri_distortion_0047.asdf', 'filteroffset': '/Users/michaelm/.miricle/crds/references/jwst/miri/jwst_miri_filteroffset_0006.asdf', 'specwcs': None, 'regions': None, 'wavelengthrange': None, 'camera': None, 'collimator': None, 'disperser': None, 'fore': None, 'fpa': None, 'msa': None, 'ote': None, 'ifupost': None, 'ifufore': None, 'ifuslicer': None}\n",
      "2022-10-24 16:01:36,736 - stpipe.AssignWcsStep - INFO - Update S_REGION to POLYGON ICRS  182.325612237 3.982415063 182.353516306 3.968153444 182.367912771 3.996091166 182.340095491 4.010634463\n",
      "2022-10-24 16:01:36,736 - stpipe.AssignWcsStep - INFO - assign_wcs updated S_REGION to POLYGON ICRS  182.325612237 3.982415063 182.353516306 3.968153444 182.367912771 3.996091166 182.340095491 4.010634463\n",
      "2022-10-24 16:01:36,737 - stpipe.AssignWcsStep - INFO - COMPLETED assign_wcs\n",
      "2022-10-24 16:01:36,842 - stpipe.AssignWcsStep - INFO - Results used CRDS context: jwst_1007.pmap\n",
      "2022-10-24 16:01:36,843 - stpipe.AssignWcsStep - INFO - Step AssignWcsStep done\n",
      "2022-10-24 16:01:37,002 - stpipe.AssignWcsStep - INFO - AssignWcsStep instance created.\n",
      "2022-10-24 16:01:37,019 - stpipe.AssignWcsStep - INFO - AssignWcsStep instance created.\n"
     ]
    },
    {
     "name": "stdout",
     "output_type": "stream",
     "text": [
      "/Users/michaelm/MIRI/data/photobomb/1051/19/jw01051019001_02103_00003_mirimage_rate.fits False\n",
      "/Users/michaelm/MIRI/data/photobomb/1051/19/jw01051019001_02101_00001_mirimage_rate.fits\n",
      "Couldn't open file /Users/michaelm/MIRI/data/photobomb/1051/19/jw01051019001_02101_00001_mirimage_rate.fits\n",
      "Moving on\n"
     ]
    },
    {
     "name": "stderr",
     "output_type": "stream",
     "text": [
      "2022-10-24 16:01:37,358 - stpipe.AssignWcsStep - INFO - Step AssignWcsStep running with args (<ImageModel(1024, 1032) from jw01051019001_02103_00003_mirimage_rate.fits>,).\n",
      "2022-10-24 16:01:37,362 - stpipe.AssignWcsStep - INFO - Step AssignWcsStep parameters are: {'pre_hooks': [], 'post_hooks': [], 'output_file': None, 'output_dir': None, 'output_ext': '.fits', 'output_use_model': False, 'output_use_index': True, 'save_results': False, 'skip': False, 'suffix': None, 'search_output_file': True, 'input_dir': '', 'sip_approx': True, 'sip_max_pix_error': 0.1, 'sip_degree': None, 'sip_max_inv_pix_error': 0.1, 'sip_inv_degree': None, 'sip_npoints': 12, 'slit_y_low': -0.55, 'slit_y_high': 0.55}\n",
      "2022-10-24 16:01:37,704 - stpipe.AssignWcsStep - INFO - Created a MIRI mir_image pipeline with references {'distortion': '/Users/michaelm/.miricle/crds/references/jwst/miri/jwst_miri_distortion_0047.asdf', 'filteroffset': '/Users/michaelm/.miricle/crds/references/jwst/miri/jwst_miri_filteroffset_0006.asdf', 'specwcs': None, 'regions': None, 'wavelengthrange': None, 'camera': None, 'collimator': None, 'disperser': None, 'fore': None, 'fpa': None, 'msa': None, 'ote': None, 'ifupost': None, 'ifufore': None, 'ifuslicer': None}\n",
      "2022-10-24 16:01:37,799 - stpipe.AssignWcsStep - INFO - Update S_REGION to POLYGON ICRS  182.325612237 3.982415063 182.353516306 3.968153444 182.367912771 3.996091166 182.340095491 4.010634463\n",
      "2022-10-24 16:01:37,800 - stpipe.AssignWcsStep - INFO - assign_wcs updated S_REGION to POLYGON ICRS  182.325612237 3.982415063 182.353516306 3.968153444 182.367912771 3.996091166 182.340095491 4.010634463\n",
      "2022-10-24 16:01:37,801 - stpipe.AssignWcsStep - INFO - COMPLETED assign_wcs\n",
      "2022-10-24 16:01:37,901 - stpipe.AssignWcsStep - INFO - Results used CRDS context: jwst_1007.pmap\n",
      "2022-10-24 16:01:37,902 - stpipe.AssignWcsStep - INFO - Step AssignWcsStep done\n",
      "2022-10-24 16:01:38,107 - stpipe.AssignWcsStep - INFO - AssignWcsStep instance created.\n",
      "2022-10-24 16:01:38,126 - stpipe.AssignWcsStep - INFO - AssignWcsStep instance created.\n"
     ]
    },
    {
     "name": "stdout",
     "output_type": "stream",
     "text": [
      "/Users/michaelm/MIRI/data/photobomb/1051/19/jw01051019001_02101_00001_mirimage_rate.fits False\n",
      "/Users/michaelm/MIRI/data/photobomb/1051/19/jw01051019001_0210c_00003_mirimage_rate.fits\n"
     ]
    },
    {
     "name": "stderr",
     "output_type": "stream",
     "text": [
      "2022-10-24 16:01:38,482 - stpipe.AssignWcsStep - INFO - Step AssignWcsStep running with args (<ImageModel(1024, 1032) from jw01051019001_0210c_00003_mirimage_rate.fits>,).\n",
      "2022-10-24 16:01:38,485 - stpipe.AssignWcsStep - INFO - Step AssignWcsStep parameters are: {'pre_hooks': [], 'post_hooks': [], 'output_file': None, 'output_dir': None, 'output_ext': '.fits', 'output_use_model': False, 'output_use_index': True, 'save_results': False, 'skip': False, 'suffix': None, 'search_output_file': True, 'input_dir': '', 'sip_approx': True, 'sip_max_pix_error': 0.1, 'sip_degree': None, 'sip_max_inv_pix_error': 0.1, 'sip_inv_degree': None, 'sip_npoints': 12, 'slit_y_low': -0.55, 'slit_y_high': 0.55}\n",
      "2022-10-24 16:01:38,823 - stpipe.AssignWcsStep - INFO - Created a MIRI mir_image pipeline with references {'distortion': '/Users/michaelm/.miricle/crds/references/jwst/miri/jwst_miri_distortion_0047.asdf', 'filteroffset': '/Users/michaelm/.miricle/crds/references/jwst/miri/jwst_miri_filteroffset_0006.asdf', 'specwcs': None, 'regions': None, 'wavelengthrange': None, 'camera': None, 'collimator': None, 'disperser': None, 'fore': None, 'fpa': None, 'msa': None, 'ote': None, 'ifupost': None, 'ifufore': None, 'ifuslicer': None}\n",
      "2022-10-24 16:01:38,941 - stpipe.AssignWcsStep - INFO - Update S_REGION to POLYGON ICRS  182.325603210 3.982415063 182.353506965 3.968153479 182.367903550 3.996091251 182.340086374 4.010634394\n",
      "2022-10-24 16:01:38,942 - stpipe.AssignWcsStep - INFO - assign_wcs updated S_REGION to POLYGON ICRS  182.325603210 3.982415063 182.353506965 3.968153479 182.367903550 3.996091251 182.340086374 4.010634394\n",
      "2022-10-24 16:01:38,943 - stpipe.AssignWcsStep - INFO - COMPLETED assign_wcs\n",
      "2022-10-24 16:01:39,041 - stpipe.AssignWcsStep - INFO - Results used CRDS context: jwst_1007.pmap\n",
      "2022-10-24 16:01:39,042 - stpipe.AssignWcsStep - INFO - Step AssignWcsStep done\n",
      "2022-10-24 16:01:39,226 - stpipe.AssignWcsStep - INFO - AssignWcsStep instance created.\n",
      "2022-10-24 16:01:39,238 - stpipe.AssignWcsStep - INFO - AssignWcsStep instance created.\n"
     ]
    },
    {
     "name": "stdout",
     "output_type": "stream",
     "text": [
      "/Users/michaelm/MIRI/data/photobomb/1051/19/jw01051019001_0210c_00003_mirimage_rate.fits False\n",
      "/Users/michaelm/MIRI/data/photobomb/1051/19/jw01051019001_02101_00002_mirimage_rate.fits\n"
     ]
    },
    {
     "name": "stderr",
     "output_type": "stream",
     "text": [
      "2022-10-24 16:01:39,599 - stpipe.AssignWcsStep - INFO - Step AssignWcsStep running with args (<ImageModel(1024, 1032) from jw01051019001_02101_00002_mirimage_rate.fits>,).\n",
      "2022-10-24 16:01:39,601 - stpipe.AssignWcsStep - INFO - Step AssignWcsStep parameters are: {'pre_hooks': [], 'post_hooks': [], 'output_file': None, 'output_dir': None, 'output_ext': '.fits', 'output_use_model': False, 'output_use_index': True, 'save_results': False, 'skip': False, 'suffix': None, 'search_output_file': True, 'input_dir': '', 'sip_approx': True, 'sip_max_pix_error': 0.1, 'sip_degree': None, 'sip_max_inv_pix_error': 0.1, 'sip_inv_degree': None, 'sip_npoints': 12, 'slit_y_low': -0.55, 'slit_y_high': 0.55}\n",
      "2022-10-24 16:01:39,927 - stpipe.AssignWcsStep - INFO - Created a MIRI mir_image pipeline with references {'distortion': '/Users/michaelm/.miricle/crds/references/jwst/miri/jwst_miri_distortion_0047.asdf', 'filteroffset': '/Users/michaelm/.miricle/crds/references/jwst/miri/jwst_miri_filteroffset_0006.asdf', 'specwcs': None, 'regions': None, 'wavelengthrange': None, 'camera': None, 'collimator': None, 'disperser': None, 'fore': None, 'fpa': None, 'msa': None, 'ote': None, 'ifupost': None, 'ifufore': None, 'ifuslicer': None}\n",
      "2022-10-24 16:01:40,054 - stpipe.AssignWcsStep - INFO - Update S_REGION to POLYGON ICRS  182.321335699 3.979043899 182.349239144 3.964782518 182.363635658 3.992720367 182.335818525 4.007263258\n",
      "2022-10-24 16:01:40,054 - stpipe.AssignWcsStep - INFO - assign_wcs updated S_REGION to POLYGON ICRS  182.321335699 3.979043899 182.349239144 3.964782518 182.363635658 3.992720367 182.335818525 4.007263258\n",
      "2022-10-24 16:01:40,055 - stpipe.AssignWcsStep - INFO - COMPLETED assign_wcs\n",
      "2022-10-24 16:01:40,157 - stpipe.AssignWcsStep - INFO - Results used CRDS context: jwst_1007.pmap\n",
      "2022-10-24 16:01:40,158 - stpipe.AssignWcsStep - INFO - Step AssignWcsStep done\n",
      "2022-10-24 16:01:40,500 - stpipe.AssignWcsStep - INFO - AssignWcsStep instance created.\n",
      "2022-10-24 16:01:40,512 - stpipe.AssignWcsStep - INFO - AssignWcsStep instance created.\n",
      "2022-10-24 16:01:40,881 - stpipe.AssignWcsStep - INFO - Step AssignWcsStep running with args (<ImageModel(1024, 1032) from jw01051019001_02105_00002_mirimage_rate.fits>,).\n"
     ]
    },
    {
     "name": "stdout",
     "output_type": "stream",
     "text": [
      "/Users/michaelm/MIRI/data/photobomb/1051/19/jw01051019001_02101_00002_mirimage_rate.fits False\n",
      "/Users/michaelm/MIRI/data/photobomb/1051/19/jw01051019001_02105_00002_mirimage_rate.fits\n"
     ]
    },
    {
     "name": "stderr",
     "output_type": "stream",
     "text": [
      "2022-10-24 16:01:40,884 - stpipe.AssignWcsStep - INFO - Step AssignWcsStep parameters are: {'pre_hooks': [], 'post_hooks': [], 'output_file': None, 'output_dir': None, 'output_ext': '.fits', 'output_use_model': False, 'output_use_index': True, 'save_results': False, 'skip': False, 'suffix': None, 'search_output_file': True, 'input_dir': '', 'sip_approx': True, 'sip_max_pix_error': 0.1, 'sip_degree': None, 'sip_max_inv_pix_error': 0.1, 'sip_inv_degree': None, 'sip_npoints': 12, 'slit_y_low': -0.55, 'slit_y_high': 0.55}\n",
      "2022-10-24 16:01:41,250 - stpipe.AssignWcsStep - INFO - Created a MIRI mir_image pipeline with references {'distortion': '/Users/michaelm/.miricle/crds/references/jwst/miri/jwst_miri_distortion_0047.asdf', 'filteroffset': '/Users/michaelm/.miricle/crds/references/jwst/miri/jwst_miri_filteroffset_0006.asdf', 'specwcs': None, 'regions': None, 'wavelengthrange': None, 'camera': None, 'collimator': None, 'disperser': None, 'fore': None, 'fpa': None, 'msa': None, 'ote': None, 'ifupost': None, 'ifufore': None, 'ifuslicer': None}\n",
      "2022-10-24 16:01:41,369 - stpipe.AssignWcsStep - INFO - Update S_REGION to POLYGON ICRS  182.321343721 3.979046896 182.349247440 3.964785463 182.363643814 3.992723314 182.335826673 4.007266305\n",
      "2022-10-24 16:01:41,370 - stpipe.AssignWcsStep - INFO - assign_wcs updated S_REGION to POLYGON ICRS  182.321343721 3.979046896 182.349247440 3.964785463 182.363643814 3.992723314 182.335826673 4.007266305\n",
      "2022-10-24 16:01:41,371 - stpipe.AssignWcsStep - INFO - COMPLETED assign_wcs\n",
      "2022-10-24 16:01:41,475 - stpipe.AssignWcsStep - INFO - Results used CRDS context: jwst_1007.pmap\n",
      "2022-10-24 16:01:41,476 - stpipe.AssignWcsStep - INFO - Step AssignWcsStep done\n",
      "2022-10-24 16:01:41,653 - stpipe.AssignWcsStep - INFO - AssignWcsStep instance created.\n",
      "2022-10-24 16:01:41,671 - stpipe.AssignWcsStep - INFO - AssignWcsStep instance created.\n"
     ]
    },
    {
     "name": "stdout",
     "output_type": "stream",
     "text": [
      "/Users/michaelm/MIRI/data/photobomb/1051/19/jw01051019001_02105_00002_mirimage_rate.fits False\n",
      "/Users/michaelm/MIRI/data/photobomb/1051/19/jw01051019001_0210a_00002_mirimage_rate.fits\n"
     ]
    },
    {
     "name": "stderr",
     "output_type": "stream",
     "text": [
      "2022-10-24 16:01:42,025 - stpipe.AssignWcsStep - INFO - Step AssignWcsStep running with args (<ImageModel(1024, 1032) from jw01051019001_0210a_00002_mirimage_rate.fits>,).\n",
      "2022-10-24 16:01:42,028 - stpipe.AssignWcsStep - INFO - Step AssignWcsStep parameters are: {'pre_hooks': [], 'post_hooks': [], 'output_file': None, 'output_dir': None, 'output_ext': '.fits', 'output_use_model': False, 'output_use_index': True, 'save_results': False, 'skip': False, 'suffix': None, 'search_output_file': True, 'input_dir': '', 'sip_approx': True, 'sip_max_pix_error': 0.1, 'sip_degree': None, 'sip_max_inv_pix_error': 0.1, 'sip_inv_degree': None, 'sip_npoints': 12, 'slit_y_low': -0.55, 'slit_y_high': 0.55}\n",
      "2022-10-24 16:01:42,397 - stpipe.AssignWcsStep - INFO - Created a MIRI mir_image pipeline with references {'distortion': '/Users/michaelm/.miricle/crds/references/jwst/miri/jwst_miri_distortion_0047.asdf', 'filteroffset': '/Users/michaelm/.miricle/crds/references/jwst/miri/jwst_miri_filteroffset_0006.asdf', 'specwcs': None, 'regions': None, 'wavelengthrange': None, 'camera': None, 'collimator': None, 'disperser': None, 'fore': None, 'fpa': None, 'msa': None, 'ote': None, 'ifupost': None, 'ifufore': None, 'ifuslicer': None}\n",
      "2022-10-24 16:01:42,508 - stpipe.AssignWcsStep - INFO - Update S_REGION to POLYGON ICRS  182.321352956 3.979046481 182.349256980 3.964784997 182.363653249 3.992722788 182.335836014 4.007265951\n",
      "2022-10-24 16:01:42,511 - stpipe.AssignWcsStep - INFO - assign_wcs updated S_REGION to POLYGON ICRS  182.321352956 3.979046481 182.349256980 3.964784997 182.363653249 3.992722788 182.335836014 4.007265951\n",
      "2022-10-24 16:01:42,512 - stpipe.AssignWcsStep - INFO - COMPLETED assign_wcs\n",
      "2022-10-24 16:01:42,603 - stpipe.AssignWcsStep - INFO - Results used CRDS context: jwst_1007.pmap\n",
      "2022-10-24 16:01:42,604 - stpipe.AssignWcsStep - INFO - Step AssignWcsStep done\n",
      "2022-10-24 16:01:42,806 - stpipe.AssignWcsStep - INFO - AssignWcsStep instance created.\n",
      "2022-10-24 16:01:42,820 - stpipe.AssignWcsStep - INFO - AssignWcsStep instance created.\n"
     ]
    },
    {
     "name": "stdout",
     "output_type": "stream",
     "text": [
      "/Users/michaelm/MIRI/data/photobomb/1051/19/jw01051019001_0210a_00002_mirimage_rate.fits False\n",
      "/Users/michaelm/MIRI/data/photobomb/1051/19/jw01051019001_02108_00002_mirimage_rate.fits\n"
     ]
    },
    {
     "name": "stderr",
     "output_type": "stream",
     "text": [
      "2022-10-24 16:01:43,160 - stpipe.AssignWcsStep - INFO - Step AssignWcsStep running with args (<ImageModel(1024, 1032) from jw01051019001_02108_00002_mirimage_rate.fits>,).\n",
      "2022-10-24 16:01:43,164 - stpipe.AssignWcsStep - INFO - Step AssignWcsStep parameters are: {'pre_hooks': [], 'post_hooks': [], 'output_file': None, 'output_dir': None, 'output_ext': '.fits', 'output_use_model': False, 'output_use_index': True, 'save_results': False, 'skip': False, 'suffix': None, 'search_output_file': True, 'input_dir': '', 'sip_approx': True, 'sip_max_pix_error': 0.1, 'sip_degree': None, 'sip_max_inv_pix_error': 0.1, 'sip_inv_degree': None, 'sip_npoints': 12, 'slit_y_low': -0.55, 'slit_y_high': 0.55}\n",
      "2022-10-24 16:01:43,536 - stpipe.AssignWcsStep - INFO - Created a MIRI mir_image pipeline with references {'distortion': '/Users/michaelm/.miricle/crds/references/jwst/miri/jwst_miri_distortion_0047.asdf', 'filteroffset': '/Users/michaelm/.miricle/crds/references/jwst/miri/jwst_miri_filteroffset_0006.asdf', 'specwcs': None, 'regions': None, 'wavelengthrange': None, 'camera': None, 'collimator': None, 'disperser': None, 'fore': None, 'fpa': None, 'msa': None, 'ote': None, 'ifupost': None, 'ifufore': None, 'ifuslicer': None}\n",
      "2022-10-24 16:01:43,679 - stpipe.AssignWcsStep - INFO - Update S_REGION to POLYGON ICRS  182.321335809 3.979043667 182.349239253 3.964782287 182.363635766 3.992720137 182.335818634 4.007263027\n",
      "2022-10-24 16:01:43,679 - stpipe.AssignWcsStep - INFO - assign_wcs updated S_REGION to POLYGON ICRS  182.321335809 3.979043667 182.349239253 3.964782287 182.363635766 3.992720137 182.335818634 4.007263027\n",
      "2022-10-24 16:01:43,680 - stpipe.AssignWcsStep - INFO - COMPLETED assign_wcs\n",
      "2022-10-24 16:01:43,784 - stpipe.AssignWcsStep - INFO - Results used CRDS context: jwst_1007.pmap\n",
      "2022-10-24 16:01:43,785 - stpipe.AssignWcsStep - INFO - Step AssignWcsStep done\n",
      "2022-10-24 16:01:44,135 - stpipe.AssignWcsStep - INFO - AssignWcsStep instance created.\n",
      "2022-10-24 16:01:44,154 - stpipe.AssignWcsStep - INFO - AssignWcsStep instance created.\n"
     ]
    },
    {
     "name": "stdout",
     "output_type": "stream",
     "text": [
      "/Users/michaelm/MIRI/data/photobomb/1051/19/jw01051019001_02108_00002_mirimage_rate.fits False\n",
      "/Users/michaelm/MIRI/data/photobomb/1051/19/jw01051019001_02108_00001_mirimage_rate.fits\n"
     ]
    },
    {
     "name": "stderr",
     "output_type": "stream",
     "text": [
      "2022-10-24 16:01:44,526 - stpipe.AssignWcsStep - INFO - Step AssignWcsStep running with args (<ImageModel(1024, 1032) from jw01051019001_02108_00001_mirimage_rate.fits>,).\n",
      "2022-10-24 16:01:44,530 - stpipe.AssignWcsStep - INFO - Step AssignWcsStep parameters are: {'pre_hooks': [], 'post_hooks': [], 'output_file': None, 'output_dir': None, 'output_ext': '.fits', 'output_use_model': False, 'output_use_index': True, 'save_results': False, 'skip': False, 'suffix': None, 'search_output_file': True, 'input_dir': '', 'sip_approx': True, 'sip_max_pix_error': 0.1, 'sip_degree': None, 'sip_max_inv_pix_error': 0.1, 'sip_inv_degree': None, 'sip_npoints': 12, 'slit_y_low': -0.55, 'slit_y_high': 0.55}\n",
      "2022-10-24 16:01:44,857 - stpipe.AssignWcsStep - INFO - Created a MIRI mir_image pipeline with references {'distortion': '/Users/michaelm/.miricle/crds/references/jwst/miri/jwst_miri_distortion_0047.asdf', 'filteroffset': '/Users/michaelm/.miricle/crds/references/jwst/miri/jwst_miri_filteroffset_0006.asdf', 'specwcs': None, 'regions': None, 'wavelengthrange': None, 'camera': None, 'collimator': None, 'disperser': None, 'fore': None, 'fpa': None, 'msa': None, 'ote': None, 'ifupost': None, 'ifufore': None, 'ifuslicer': None}\n",
      "2022-10-24 16:01:44,962 - stpipe.AssignWcsStep - INFO - Update S_REGION to POLYGON ICRS  182.322420973 3.981951386 182.350324487 3.967689950 182.364721108 3.995627771 182.336903906 4.010170717\n",
      "2022-10-24 16:01:44,963 - stpipe.AssignWcsStep - INFO - assign_wcs updated S_REGION to POLYGON ICRS  182.322420973 3.981951386 182.350324487 3.967689950 182.364721108 3.995627771 182.336903906 4.010170717\n",
      "2022-10-24 16:01:44,964 - stpipe.AssignWcsStep - INFO - COMPLETED assign_wcs\n",
      "2022-10-24 16:01:45,070 - stpipe.AssignWcsStep - INFO - Results used CRDS context: jwst_1007.pmap\n",
      "2022-10-24 16:01:45,071 - stpipe.AssignWcsStep - INFO - Step AssignWcsStep done\n",
      "2022-10-24 16:01:45,404 - stpipe.AssignWcsStep - INFO - AssignWcsStep instance created.\n",
      "2022-10-24 16:01:45,418 - stpipe.AssignWcsStep - INFO - AssignWcsStep instance created.\n"
     ]
    },
    {
     "name": "stdout",
     "output_type": "stream",
     "text": [
      "/Users/michaelm/MIRI/data/photobomb/1051/19/jw01051019001_02108_00001_mirimage_rate.fits False\n",
      "/Users/michaelm/MIRI/data/photobomb/1051/19/jw01051019001_02108_00003_mirimage_rate.fits\n"
     ]
    },
    {
     "name": "stderr",
     "output_type": "stream",
     "text": [
      "2022-10-24 16:01:45,771 - stpipe.AssignWcsStep - INFO - Step AssignWcsStep running with args (<ImageModel(1024, 1032) from jw01051019001_02108_00003_mirimage_rate.fits>,).\n",
      "2022-10-24 16:01:45,773 - stpipe.AssignWcsStep - INFO - Step AssignWcsStep parameters are: {'pre_hooks': [], 'post_hooks': [], 'output_file': None, 'output_dir': None, 'output_ext': '.fits', 'output_use_model': False, 'output_use_index': True, 'save_results': False, 'skip': False, 'suffix': None, 'search_output_file': True, 'input_dir': '', 'sip_approx': True, 'sip_max_pix_error': 0.1, 'sip_degree': None, 'sip_max_inv_pix_error': 0.1, 'sip_inv_degree': None, 'sip_npoints': 12, 'slit_y_low': -0.55, 'slit_y_high': 0.55}\n",
      "2022-10-24 16:01:46,105 - stpipe.AssignWcsStep - INFO - Created a MIRI mir_image pipeline with references {'distortion': '/Users/michaelm/.miricle/crds/references/jwst/miri/jwst_miri_distortion_0047.asdf', 'filteroffset': '/Users/michaelm/.miricle/crds/references/jwst/miri/jwst_miri_filteroffset_0006.asdf', 'specwcs': None, 'regions': None, 'wavelengthrange': None, 'camera': None, 'collimator': None, 'disperser': None, 'fore': None, 'fpa': None, 'msa': None, 'ote': None, 'ifupost': None, 'ifufore': None, 'ifuslicer': None}\n",
      "2022-10-24 16:01:46,210 - stpipe.AssignWcsStep - INFO - Update S_REGION to POLYGON ICRS  182.325595388 3.982412130 182.353498878 3.968150616 182.367895585 3.996088395 182.340078409 4.010631420\n",
      "2022-10-24 16:01:46,210 - stpipe.AssignWcsStep - INFO - assign_wcs updated S_REGION to POLYGON ICRS  182.325595388 3.982412130 182.353498878 3.968150616 182.367895585 3.996088395 182.340078409 4.010631420\n",
      "2022-10-24 16:01:46,211 - stpipe.AssignWcsStep - INFO - COMPLETED assign_wcs\n",
      "2022-10-24 16:01:46,299 - stpipe.AssignWcsStep - INFO - Results used CRDS context: jwst_1007.pmap\n",
      "2022-10-24 16:01:46,299 - stpipe.AssignWcsStep - INFO - Step AssignWcsStep done\n",
      "2022-10-24 16:01:46,619 - stpipe.AssignWcsStep - INFO - AssignWcsStep instance created.\n",
      "2022-10-24 16:01:46,633 - stpipe.AssignWcsStep - INFO - AssignWcsStep instance created.\n"
     ]
    },
    {
     "name": "stdout",
     "output_type": "stream",
     "text": [
      "/Users/michaelm/MIRI/data/photobomb/1051/19/jw01051019001_02108_00003_mirimage_rate.fits False\n",
      "/Users/michaelm/MIRI/data/photobomb/1051/19/jw01051019001_0210a_00003_mirimage_rate.fits\n"
     ]
    },
    {
     "name": "stderr",
     "output_type": "stream",
     "text": [
      "2022-10-24 16:01:46,986 - stpipe.AssignWcsStep - INFO - Step AssignWcsStep running with args (<ImageModel(1024, 1032) from jw01051019001_0210a_00003_mirimage_rate.fits>,).\n",
      "2022-10-24 16:01:46,992 - stpipe.AssignWcsStep - INFO - Step AssignWcsStep parameters are: {'pre_hooks': [], 'post_hooks': [], 'output_file': None, 'output_dir': None, 'output_ext': '.fits', 'output_use_model': False, 'output_use_index': True, 'save_results': False, 'skip': False, 'suffix': None, 'search_output_file': True, 'input_dir': '', 'sip_approx': True, 'sip_max_pix_error': 0.1, 'sip_degree': None, 'sip_max_inv_pix_error': 0.1, 'sip_inv_degree': None, 'sip_npoints': 12, 'slit_y_low': -0.55, 'slit_y_high': 0.55}\n",
      "2022-10-24 16:01:47,310 - stpipe.AssignWcsStep - INFO - Created a MIRI mir_image pipeline with references {'distortion': '/Users/michaelm/.miricle/crds/references/jwst/miri/jwst_miri_distortion_0047.asdf', 'filteroffset': '/Users/michaelm/.miricle/crds/references/jwst/miri/jwst_miri_filteroffset_0006.asdf', 'specwcs': None, 'regions': None, 'wavelengthrange': None, 'camera': None, 'collimator': None, 'disperser': None, 'fore': None, 'fpa': None, 'msa': None, 'ote': None, 'ifupost': None, 'ifufore': None, 'ifuslicer': None}\n",
      "2022-10-24 16:01:47,416 - stpipe.AssignWcsStep - INFO - Update S_REGION to POLYGON ICRS  182.325612493 3.982414806 182.353516560 3.968153183 182.367913029 3.996090902 182.340095751 4.010634204\n",
      "2022-10-24 16:01:47,416 - stpipe.AssignWcsStep - INFO - assign_wcs updated S_REGION to POLYGON ICRS  182.325612493 3.982414806 182.353516560 3.968153183 182.367913029 3.996090902 182.340095751 4.010634204\n",
      "2022-10-24 16:01:47,417 - stpipe.AssignWcsStep - INFO - COMPLETED assign_wcs\n",
      "2022-10-24 16:01:47,518 - stpipe.AssignWcsStep - INFO - Results used CRDS context: jwst_1007.pmap\n",
      "2022-10-24 16:01:47,518 - stpipe.AssignWcsStep - INFO - Step AssignWcsStep done\n",
      "2022-10-24 16:01:47,731 - stpipe.AssignWcsStep - INFO - AssignWcsStep instance created.\n",
      "2022-10-24 16:01:47,744 - stpipe.AssignWcsStep - INFO - AssignWcsStep instance created.\n"
     ]
    },
    {
     "name": "stdout",
     "output_type": "stream",
     "text": [
      "/Users/michaelm/MIRI/data/photobomb/1051/19/jw01051019001_0210a_00003_mirimage_rate.fits False\n",
      "/Users/michaelm/MIRI/data/photobomb/1051/19/jw01051019001_02105_00003_mirimage_rate.fits\n"
     ]
    },
    {
     "name": "stderr",
     "output_type": "stream",
     "text": [
      "2022-10-24 16:01:48,099 - stpipe.AssignWcsStep - INFO - Step AssignWcsStep running with args (<ImageModel(1024, 1032) from jw01051019001_02105_00003_mirimage_rate.fits>,).\n",
      "2022-10-24 16:01:48,106 - stpipe.AssignWcsStep - INFO - Step AssignWcsStep parameters are: {'pre_hooks': [], 'post_hooks': [], 'output_file': None, 'output_dir': None, 'output_ext': '.fits', 'output_use_model': False, 'output_use_index': True, 'save_results': False, 'skip': False, 'suffix': None, 'search_output_file': True, 'input_dir': '', 'sip_approx': True, 'sip_max_pix_error': 0.1, 'sip_degree': None, 'sip_max_inv_pix_error': 0.1, 'sip_inv_degree': None, 'sip_npoints': 12, 'slit_y_low': -0.55, 'slit_y_high': 0.55}\n",
      "2022-10-24 16:01:48,451 - stpipe.AssignWcsStep - INFO - Created a MIRI mir_image pipeline with references {'distortion': '/Users/michaelm/.miricle/crds/references/jwst/miri/jwst_miri_distortion_0047.asdf', 'filteroffset': '/Users/michaelm/.miricle/crds/references/jwst/miri/jwst_miri_filteroffset_0006.asdf', 'specwcs': None, 'regions': None, 'wavelengthrange': None, 'camera': None, 'collimator': None, 'disperser': None, 'fore': None, 'fpa': None, 'msa': None, 'ote': None, 'ifupost': None, 'ifufore': None, 'ifuslicer': None}\n",
      "2022-10-24 16:01:48,560 - stpipe.AssignWcsStep - INFO - Update S_REGION to POLYGON ICRS  182.325603310 3.982415425 182.353507071 3.968153851 182.367903646 3.996091628 182.340086464 4.010634761\n",
      "2022-10-24 16:01:48,561 - stpipe.AssignWcsStep - INFO - assign_wcs updated S_REGION to POLYGON ICRS  182.325603310 3.982415425 182.353507071 3.968153851 182.367903646 3.996091628 182.340086464 4.010634761\n",
      "2022-10-24 16:01:48,562 - stpipe.AssignWcsStep - INFO - COMPLETED assign_wcs\n",
      "2022-10-24 16:01:48,651 - stpipe.AssignWcsStep - INFO - Results used CRDS context: jwst_1007.pmap\n",
      "2022-10-24 16:01:48,652 - stpipe.AssignWcsStep - INFO - Step AssignWcsStep done\n",
      "2022-10-24 16:01:48,853 - stpipe.AssignWcsStep - INFO - AssignWcsStep instance created.\n",
      "2022-10-24 16:01:48,867 - stpipe.AssignWcsStep - INFO - AssignWcsStep instance created.\n"
     ]
    },
    {
     "name": "stdout",
     "output_type": "stream",
     "text": [
      "/Users/michaelm/MIRI/data/photobomb/1051/19/jw01051019001_02105_00003_mirimage_rate.fits False\n",
      "/Users/michaelm/MIRI/data/photobomb/1051/19/jw01051019001_02103_00001_mirimage_rate.fits\n"
     ]
    },
    {
     "name": "stderr",
     "output_type": "stream",
     "text": [
      "2022-10-24 16:01:49,226 - stpipe.AssignWcsStep - INFO - Step AssignWcsStep running with args (<ImageModel(1024, 1032) from jw01051019001_02103_00001_mirimage_rate.fits>,).\n",
      "2022-10-24 16:01:49,239 - stpipe.AssignWcsStep - INFO - Step AssignWcsStep parameters are: {'pre_hooks': [], 'post_hooks': [], 'output_file': None, 'output_dir': None, 'output_ext': '.fits', 'output_use_model': False, 'output_use_index': True, 'save_results': False, 'skip': False, 'suffix': None, 'search_output_file': True, 'input_dir': '', 'sip_approx': True, 'sip_max_pix_error': 0.1, 'sip_degree': None, 'sip_max_inv_pix_error': 0.1, 'sip_inv_degree': None, 'sip_npoints': 12, 'slit_y_low': -0.55, 'slit_y_high': 0.55}\n",
      "2022-10-24 16:01:49,570 - stpipe.AssignWcsStep - INFO - Created a MIRI mir_image pipeline with references {'distortion': '/Users/michaelm/.miricle/crds/references/jwst/miri/jwst_miri_distortion_0047.asdf', 'filteroffset': '/Users/michaelm/.miricle/crds/references/jwst/miri/jwst_miri_filteroffset_0006.asdf', 'specwcs': None, 'regions': None, 'wavelengthrange': None, 'camera': None, 'collimator': None, 'disperser': None, 'fore': None, 'fpa': None, 'msa': None, 'ote': None, 'ifupost': None, 'ifufore': None, 'ifuslicer': None}\n",
      "2022-10-24 16:01:49,678 - stpipe.AssignWcsStep - INFO - Update S_REGION to POLYGON ICRS  182.322437832 3.981954341 182.350341935 3.967692818 182.364738295 3.995630590 182.336920980 4.010173792\n",
      "2022-10-24 16:01:49,679 - stpipe.AssignWcsStep - INFO - assign_wcs updated S_REGION to POLYGON ICRS  182.322437832 3.981954341 182.350341935 3.967692818 182.364738295 3.995630590 182.336920980 4.010173792\n",
      "2022-10-24 16:01:49,680 - stpipe.AssignWcsStep - INFO - COMPLETED assign_wcs\n",
      "2022-10-24 16:01:49,787 - stpipe.AssignWcsStep - INFO - Results used CRDS context: jwst_1007.pmap\n",
      "2022-10-24 16:01:49,787 - stpipe.AssignWcsStep - INFO - Step AssignWcsStep done\n",
      "2022-10-24 16:01:49,999 - stpipe.AssignWcsStep - INFO - AssignWcsStep instance created.\n",
      "2022-10-24 16:01:50,012 - stpipe.AssignWcsStep - INFO - AssignWcsStep instance created.\n"
     ]
    },
    {
     "name": "stdout",
     "output_type": "stream",
     "text": [
      "/Users/michaelm/MIRI/data/photobomb/1051/19/jw01051019001_02103_00001_mirimage_rate.fits False\n",
      "/Users/michaelm/MIRI/data/photobomb/1051/19/jw01051019001_02101_00003_mirimage_rate.fits\n"
     ]
    },
    {
     "name": "stderr",
     "output_type": "stream",
     "text": [
      "2022-10-24 16:01:50,363 - stpipe.AssignWcsStep - INFO - Step AssignWcsStep running with args (<ImageModel(1024, 1032) from jw01051019001_02101_00003_mirimage_rate.fits>,).\n",
      "2022-10-24 16:01:50,367 - stpipe.AssignWcsStep - INFO - Step AssignWcsStep parameters are: {'pre_hooks': [], 'post_hooks': [], 'output_file': None, 'output_dir': None, 'output_ext': '.fits', 'output_use_model': False, 'output_use_index': True, 'save_results': False, 'skip': False, 'suffix': None, 'search_output_file': True, 'input_dir': '', 'sip_approx': True, 'sip_max_pix_error': 0.1, 'sip_degree': None, 'sip_max_inv_pix_error': 0.1, 'sip_inv_degree': None, 'sip_npoints': 12, 'slit_y_low': -0.55, 'slit_y_high': 0.55}\n",
      "2022-10-24 16:01:50,692 - stpipe.AssignWcsStep - INFO - Created a MIRI mir_image pipeline with references {'distortion': '/Users/michaelm/.miricle/crds/references/jwst/miri/jwst_miri_distortion_0047.asdf', 'filteroffset': '/Users/michaelm/.miricle/crds/references/jwst/miri/jwst_miri_filteroffset_0006.asdf', 'specwcs': None, 'regions': None, 'wavelengthrange': None, 'camera': None, 'collimator': None, 'disperser': None, 'fore': None, 'fpa': None, 'msa': None, 'ote': None, 'ifupost': None, 'ifufore': None, 'ifuslicer': None}\n",
      "2022-10-24 16:01:50,811 - stpipe.AssignWcsStep - INFO - Update S_REGION to POLYGON ICRS  182.325595466 3.982412428 182.353498957 3.968150916 182.367895662 3.996088697 182.340078484 4.010631720\n",
      "2022-10-24 16:01:50,812 - stpipe.AssignWcsStep - INFO - assign_wcs updated S_REGION to POLYGON ICRS  182.325595466 3.982412428 182.353498957 3.968150916 182.367895662 3.996088697 182.340078484 4.010631720\n",
      "2022-10-24 16:01:50,812 - stpipe.AssignWcsStep - INFO - COMPLETED assign_wcs\n",
      "2022-10-24 16:01:50,913 - stpipe.AssignWcsStep - INFO - Results used CRDS context: jwst_1007.pmap\n",
      "2022-10-24 16:01:50,914 - stpipe.AssignWcsStep - INFO - Step AssignWcsStep done\n",
      "2022-10-24 16:01:51,238 - stpipe.AssignWcsStep - INFO - AssignWcsStep instance created.\n",
      "2022-10-24 16:01:51,257 - stpipe.AssignWcsStep - INFO - AssignWcsStep instance created.\n"
     ]
    },
    {
     "name": "stdout",
     "output_type": "stream",
     "text": [
      "/Users/michaelm/MIRI/data/photobomb/1051/19/jw01051019001_02101_00003_mirimage_rate.fits False\n",
      "/Users/michaelm/MIRI/data/photobomb/1051/19/jw01051019001_0210c_00001_mirimage_rate.fits\n"
     ]
    },
    {
     "name": "stderr",
     "output_type": "stream",
     "text": [
      "2022-10-24 16:01:51,595 - stpipe.AssignWcsStep - INFO - Step AssignWcsStep running with args (<ImageModel(1024, 1032) from jw01051019001_0210c_00001_mirimage_rate.fits>,).\n",
      "2022-10-24 16:01:51,598 - stpipe.AssignWcsStep - INFO - Step AssignWcsStep parameters are: {'pre_hooks': [], 'post_hooks': [], 'output_file': None, 'output_dir': None, 'output_ext': '.fits', 'output_use_model': False, 'output_use_index': True, 'save_results': False, 'skip': False, 'suffix': None, 'search_output_file': True, 'input_dir': '', 'sip_approx': True, 'sip_max_pix_error': 0.1, 'sip_degree': None, 'sip_max_inv_pix_error': 0.1, 'sip_inv_degree': None, 'sip_npoints': 12, 'slit_y_low': -0.55, 'slit_y_high': 0.55}\n",
      "2022-10-24 16:01:51,919 - stpipe.AssignWcsStep - INFO - Created a MIRI mir_image pipeline with references {'distortion': '/Users/michaelm/.miricle/crds/references/jwst/miri/jwst_miri_distortion_0047.asdf', 'filteroffset': '/Users/michaelm/.miricle/crds/references/jwst/miri/jwst_miri_filteroffset_0006.asdf', 'specwcs': None, 'regions': None, 'wavelengthrange': None, 'camera': None, 'collimator': None, 'disperser': None, 'fore': None, 'fpa': None, 'msa': None, 'ote': None, 'ifupost': None, 'ifufore': None, 'ifuslicer': None}\n",
      "2022-10-24 16:01:52,024 - stpipe.AssignWcsStep - INFO - Update S_REGION to POLYGON ICRS  182.322428776 3.981954388 182.350332569 3.967692908 182.364729041 3.995630734 182.336911825 4.010173772\n",
      "2022-10-24 16:01:52,024 - stpipe.AssignWcsStep - INFO - assign_wcs updated S_REGION to POLYGON ICRS  182.322428776 3.981954388 182.350332569 3.967692908 182.364729041 3.995630734 182.336911825 4.010173772\n",
      "2022-10-24 16:01:52,025 - stpipe.AssignWcsStep - INFO - COMPLETED assign_wcs\n",
      "2022-10-24 16:01:52,121 - stpipe.AssignWcsStep - INFO - Results used CRDS context: jwst_1007.pmap\n",
      "2022-10-24 16:01:52,121 - stpipe.AssignWcsStep - INFO - Step AssignWcsStep done\n",
      "2022-10-24 16:01:52,285 - stpipe.AssignWcsStep - INFO - AssignWcsStep instance created.\n",
      "2022-10-24 16:01:52,298 - stpipe.AssignWcsStep - INFO - AssignWcsStep instance created.\n"
     ]
    },
    {
     "name": "stdout",
     "output_type": "stream",
     "text": [
      "/Users/michaelm/MIRI/data/photobomb/1051/19/jw01051019001_0210c_00001_mirimage_rate.fits False\n",
      "/Users/michaelm/MIRI/data/photobomb/1051/19/jw01051019001_0210c_00002_mirimage_rate.fits\n"
     ]
    },
    {
     "name": "stderr",
     "output_type": "stream",
     "text": [
      "2022-10-24 16:01:52,657 - stpipe.AssignWcsStep - INFO - Step AssignWcsStep running with args (<ImageModel(1024, 1032) from jw01051019001_0210c_00002_mirimage_rate.fits>,).\n",
      "2022-10-24 16:01:52,660 - stpipe.AssignWcsStep - INFO - Step AssignWcsStep parameters are: {'pre_hooks': [], 'post_hooks': [], 'output_file': None, 'output_dir': None, 'output_ext': '.fits', 'output_use_model': False, 'output_use_index': True, 'save_results': False, 'skip': False, 'suffix': None, 'search_output_file': True, 'input_dir': '', 'sip_approx': True, 'sip_max_pix_error': 0.1, 'sip_degree': None, 'sip_max_inv_pix_error': 0.1, 'sip_inv_degree': None, 'sip_npoints': 12, 'slit_y_low': -0.55, 'slit_y_high': 0.55}\n",
      "2022-10-24 16:01:52,989 - stpipe.AssignWcsStep - INFO - Created a MIRI mir_image pipeline with references {'distortion': '/Users/michaelm/.miricle/crds/references/jwst/miri/jwst_miri_distortion_0047.asdf', 'filteroffset': '/Users/michaelm/.miricle/crds/references/jwst/miri/jwst_miri_filteroffset_0006.asdf', 'specwcs': None, 'regions': None, 'wavelengthrange': None, 'camera': None, 'collimator': None, 'disperser': None, 'fore': None, 'fpa': None, 'msa': None, 'ote': None, 'ifupost': None, 'ifufore': None, 'ifuslicer': None}\n",
      "2022-10-24 16:01:53,100 - stpipe.AssignWcsStep - INFO - Update S_REGION to POLYGON ICRS  182.321343728 3.979046621 182.349247448 3.964785189 182.363643820 3.992723040 182.335826677 4.007266030\n",
      "2022-10-24 16:01:53,101 - stpipe.AssignWcsStep - INFO - assign_wcs updated S_REGION to POLYGON ICRS  182.321343728 3.979046621 182.349247448 3.964785189 182.363643820 3.992723040 182.335826677 4.007266030\n",
      "2022-10-24 16:01:53,101 - stpipe.AssignWcsStep - INFO - COMPLETED assign_wcs\n",
      "2022-10-24 16:01:53,204 - stpipe.AssignWcsStep - INFO - Results used CRDS context: jwst_1007.pmap\n",
      "2022-10-24 16:01:53,205 - stpipe.AssignWcsStep - INFO - Step AssignWcsStep done\n",
      "2022-10-24 16:01:53,380 - stpipe.AssignWcsStep - INFO - AssignWcsStep instance created.\n",
      "2022-10-24 16:01:53,394 - stpipe.AssignWcsStep - INFO - AssignWcsStep instance created.\n"
     ]
    },
    {
     "name": "stdout",
     "output_type": "stream",
     "text": [
      "/Users/michaelm/MIRI/data/photobomb/1051/19/jw01051019001_0210c_00002_mirimage_rate.fits False\n",
      "/Users/michaelm/MIRI/data/photobomb/1051/19/jw01051019001_02103_00002_mirimage_rate.fits\n"
     ]
    },
    {
     "name": "stderr",
     "output_type": "stream",
     "text": [
      "2022-10-24 16:01:53,762 - stpipe.AssignWcsStep - INFO - Step AssignWcsStep running with args (<ImageModel(1024, 1032) from jw01051019001_02103_00002_mirimage_rate.fits>,).\n",
      "2022-10-24 16:01:53,766 - stpipe.AssignWcsStep - INFO - Step AssignWcsStep parameters are: {'pre_hooks': [], 'post_hooks': [], 'output_file': None, 'output_dir': None, 'output_ext': '.fits', 'output_use_model': False, 'output_use_index': True, 'save_results': False, 'skip': False, 'suffix': None, 'search_output_file': True, 'input_dir': '', 'sip_approx': True, 'sip_max_pix_error': 0.1, 'sip_degree': None, 'sip_max_inv_pix_error': 0.1, 'sip_inv_degree': None, 'sip_npoints': 12, 'slit_y_low': -0.55, 'slit_y_high': 0.55}\n",
      "2022-10-24 16:01:54,066 - stpipe.AssignWcsStep - INFO - Created a MIRI mir_image pipeline with references {'distortion': '/Users/michaelm/.miricle/crds/references/jwst/miri/jwst_miri_distortion_0047.asdf', 'filteroffset': '/Users/michaelm/.miricle/crds/references/jwst/miri/jwst_miri_filteroffset_0006.asdf', 'specwcs': None, 'regions': None, 'wavelengthrange': None, 'camera': None, 'collimator': None, 'disperser': None, 'fore': None, 'fpa': None, 'msa': None, 'ote': None, 'ifupost': None, 'ifufore': None, 'ifuslicer': None}\n",
      "2022-10-24 16:01:54,170 - stpipe.AssignWcsStep - INFO - Update S_REGION to POLYGON ICRS  182.321352743 3.979046545 182.349256769 3.964785064 182.363653035 3.992722858 182.335835797 4.007266017\n",
      "2022-10-24 16:01:54,171 - stpipe.AssignWcsStep - INFO - assign_wcs updated S_REGION to POLYGON ICRS  182.321352743 3.979046545 182.349256769 3.964785064 182.363653035 3.992722858 182.335835797 4.007266017\n",
      "2022-10-24 16:01:54,172 - stpipe.AssignWcsStep - INFO - COMPLETED assign_wcs\n",
      "2022-10-24 16:01:54,264 - stpipe.AssignWcsStep - INFO - Results used CRDS context: jwst_1007.pmap\n",
      "2022-10-24 16:01:54,265 - stpipe.AssignWcsStep - INFO - Step AssignWcsStep done\n"
     ]
    },
    {
     "name": "stdout",
     "output_type": "stream",
     "text": [
      "/Users/michaelm/MIRI/data/photobomb/1051/19/jw01051019001_02103_00002_mirimage_rate.fits False\n"
     ]
    }
   ],
   "source": [
    "detections=[]\n",
    "for rateFile in rateFiles:\n",
    "    print( rateFile )\n",
    "    try:\n",
    "        dm = datamodels.ImageModel( rateFile )\n",
    "    except:\n",
    "        print( \"Couldn't open file\", rateFile)\n",
    "        print( \"Moving on\")\n",
    "        continue\n",
    "    dm.meta.exposure.type = 'MIR_IMAGE' # needed for some commissioning observations (pipeline doesn't run otherwise)\n",
    "    rateWithWCS = AssignWcsStep().call( dm )\n",
    "\n",
    "    coordToPix = rateWithWCS.meta.wcs.get_transform( 'world', 'detector' )\n",
    "\n",
    "    #nGroups = round(rateWithWCS.meta.exposure.elapsed_exposure_time / rateWithWCS.meta.exposure.frame_time)\n",
    "    nGroups=rateWithWCS.meta.exposure.ngroups\n",
    "\n",
    "    epochs={}\n",
    "    epochs['start']=parms['DATE-BEG']\n",
    "    epochs['stop'] =parms['DATE-END']\n",
    "    epochs['step'] = '%i'%(nGroups-1) \n",
    "\n",
    "    for c in parms['candidates']:\n",
    "        # check candidate timestamp against output file (if already present)\n",
    "        hor=Horizons( id=c, location=telescope, epochs=epochs )\n",
    "        try:\n",
    "            ephemeris = hor.ephemerides(solar_elongation=elongLimits) \n",
    "        except ValueError:\n",
    "            print( \"Couldn't find \",c, ', packed number?  This issue really should be fixed now!')\n",
    "            ### Those don't appear to be supported by astroquery.jplHorizons as of 2019/05/13 (but compressed desigs are)\n",
    "            ### That's a problem!\n",
    "            continue\n",
    "    # Everything below should be part of the for loop above (run it once per candidate).  Current situation is for development, only\n",
    "\n",
    "    #print( ephemeris )\n",
    "\n",
    "    ra=ephemeris['RA']\n",
    "    dec=ephemeris['DEC']\n",
    "\n",
    "    x,y = coordToPix( ra, dec )\n",
    "\n",
    "    xMax,yMax=rateWithWCS.data.shape  # or should it be y,x???\n",
    "\n",
    "    dx= (x[-1]-x[0]) / nGroups\n",
    "    dy= (y[-1]-y[0]) / nGroups\n",
    "\n",
    "    inside = [True for i in range(nGroups)]\n",
    "    for i in range(nGroups):\n",
    "        if (x[i] < 0) or (y[i]<0) or (x[i]>xMax) or (y[i]>yMax):\n",
    "            inside[i]=False\n",
    "    print( rateFile, True in inside)\n",
    "    if True in inside:\n",
    "        detections.append(rateFiles)"
   ]
  },
  {
   "cell_type": "code",
   "execution_count": 64,
   "id": "cd106879",
   "metadata": {},
   "outputs": [
    {
     "data": {
      "text/plain": [
       "[]"
      ]
     },
     "execution_count": 64,
     "metadata": {},
     "output_type": "execute_result"
    }
   ],
   "source": [
    "detections"
   ]
  },
  {
   "cell_type": "code",
   "execution_count": null,
   "id": "6d13ee63",
   "metadata": {},
   "outputs": [],
   "source": []
  },
  {
   "cell_type": "code",
   "execution_count": null,
   "id": "ddada73b",
   "metadata": {},
   "outputs": [],
   "source": []
  }
 ],
 "metadata": {
  "kernelspec": {
   "display_name": "Python [conda env:jwst] *",
   "language": "python",
   "name": "conda-env-jwst-py"
  },
  "language_info": {
   "codemirror_mode": {
    "name": "ipython",
    "version": 3
   },
   "file_extension": ".py",
   "mimetype": "text/x-python",
   "name": "python",
   "nbconvert_exporter": "python",
   "pygments_lexer": "ipython3",
   "version": "3.10.4"
  }
 },
 "nbformat": 4,
 "nbformat_minor": 5
}
